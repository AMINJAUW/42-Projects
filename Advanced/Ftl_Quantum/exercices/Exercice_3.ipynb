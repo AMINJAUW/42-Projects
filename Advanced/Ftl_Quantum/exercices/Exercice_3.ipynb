{
 "cells": [
  {
   "cell_type": "markdown",
   "metadata": {},
   "source": [
    "# Exercise 3: Entanglement"
   ]
  },
  {
   "cell_type": "code",
   "execution_count": null,
   "metadata": {},
   "outputs": [],
   "source": [
    "from qiskit import QuantumCircuit\n",
    "from qiskit.visualization import plot_histogram\n",
    "from qiskit_aer import AerSimulator\n",
    "\n",
    "qc = QuantumCircuit(2) # create 2 qbits at at |0>\n",
    "\n",
    "qc.h(0) # superpose the states of the first qbit\n",
    "\n",
    "qc.cx(0, 1) # Add a CNOT gate that will inverse the state of second qbit if the state of the first is |1> \n",
    "# By dooing this we are \"Connecting\" the 2 qbits so they will have the same state\n",
    "\n",
    "qc.measure_all()\n",
    "\n",
    "print(\"Quantum Circuit:\")\n",
    "display(qc.draw('mpl'))"
   ]
  },
  {
   "cell_type": "markdown",
   "metadata": {},
   "source": [
    "we can Calculate the finale state as follow"
   ]
  },
  {
   "cell_type": "markdown",
   "metadata": {},
   "source": [
    "After the $H$ Gate\n",
    "$$\n",
    "\\psi _0 = \\ket{q_1q_0} = \\ket{00}\\\\\n",
    "\\ket{0}H\\ket{0} = \\frac{1}{\\sqrt{2}}\\ket{0} (\\ \\ket{0} + \\ket{1} )\\ \\\\\n",
    "\\psi _1 = \\frac{1}{\\sqrt{2}} (\\ \\ket{00} + \\ket{01})\\ \n",
    "$$"
   ]
  },
  {
   "cell_type": "markdown",
   "metadata": {},
   "source": [
    "The CNOT gate will invers $q_1$ if $q_0$ is $\\ket{1}$\n",
    "$$\n",
    "\\psi _2 = \\frac{1}{\\sqrt{2}} (\\ \\ket{00} + \\ket{11} )\\\n",
    "$$"
   ]
  },
  {
   "cell_type": "code",
   "execution_count": null,
   "metadata": {},
   "outputs": [],
   "source": [
    "simulator = AerSimulator()\n",
    "shots = 500\n",
    "result = simulator.run(qc, shots=shots).result()\n",
    "\n",
    "# Step 5: Get the counts and convert to frequencies\n",
    "counts = result.get_counts(qc)\n",
    "frequencies = {key: value / shots for key, value in counts.items()}\n",
    "\n",
    "# Step 6: Plot the histogram of frequencies\n",
    "display(plot_histogram(frequencies, bar_labels=False, figsize=(7, 5)))"
   ]
  },
  {
   "cell_type": "markdown",
   "metadata": {},
   "source": [
    "We then say that the 2 qbits are entangled.\n",
    "<br>\n",
    "Because if we mesure one of the qbits we will instantly change the state of the other qbit"
   ]
  }
 ],
 "metadata": {
  "kernelspec": {
   "display_name": "Python 3.11.10 64-bit",
   "language": "python",
   "name": "python3"
  },
  "language_info": {
   "codemirror_mode": {
    "name": "ipython",
    "version": 3
   },
   "file_extension": ".py",
   "mimetype": "text/x-python",
   "name": "python",
   "nbconvert_exporter": "python",
   "pygments_lexer": "ipython3",
   "version": "3.11.10"
  },
  "orig_nbformat": 4,
  "vscode": {
   "interpreter": {
    "hash": "853ee8816f05319f977b0456a9db8dad6d4b989386ec41a8b966f714316aa2e9"
   }
  }
 },
 "nbformat": 4,
 "nbformat_minor": 2
}
