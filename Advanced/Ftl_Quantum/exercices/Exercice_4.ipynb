{
 "cells": [
  {
   "cell_type": "code",
   "execution_count": null,
   "metadata": {},
   "outputs": [],
   "source": [
    "#to have acces to IBM \n",
    "from qiskit_ibm_runtime import QiskitRuntimeService\n",
    "from dotenv import load_dotenv\n",
    "import os\n",
    "\n",
    "load_dotenv(override=True)\n",
    "token = os.environ['IBM_TOKEN']\n",
    "service = QiskitRuntimeService(channel=\"ibm_quantum\", token=token)"
   ]
  },
  {
   "cell_type": "markdown",
   "metadata": {},
   "source": [
    "# Exercise 4: Quantum noise"
   ]
  },
  {
   "cell_type": "code",
   "execution_count": null,
   "metadata": {},
   "outputs": [],
   "source": [
    "from qiskit import QuantumCircuit\n",
    "from qiskit.visualization import plot_histogram\n",
    "from qiskit.transpiler.preset_passmanagers import generate_preset_pass_manager\n",
    "from qiskit_ibm_runtime import SamplerV2 as Sampler\n",
    "\n",
    "shots = 500\n",
    "\n",
    "qc = QuantumCircuit(2)  # 2 qubits\n",
    "\n",
    "# Step 2: Create entanglement using Hadamard and CNOT gates\n",
    "qc.h(0)  # Apply Hadamard gate to qubit 0\n",
    "qc.cx(0, 1)  # Apply CNOT gate with qubit 0 as control and qubit 1 as target\n",
    "\n",
    "# Step 3: Add measurement to the circuit\n",
    "qc.measure_all()\n",
    "\n",
    "# Display the quantum circuit\n",
    "print(\"Quantum Circuit:\")\n",
    "display(qc.draw('mpl'))"
   ]
  },
  {
   "cell_type": "markdown",
   "metadata": {},
   "source": [
    "Same circuit as before and we have the final state of the system \n",
    "$$\n",
    "\\psi = \\frac{1}{\\sqrt{2}} (\\ \\ket{00} + \\ket{11} )\\\n",
    "$$"
   ]
  },
  {
   "cell_type": "markdown",
   "metadata": {},
   "source": [
    "But this time to have it work properly on a real quantum computer we need to modify the circuit to only use the available gates\n",
    "<br>\n",
    "We call this transpiling a circuit so that this will be exactly the same state at the end as before but only using the availble gates. "
   ]
  },
  {
   "cell_type": "code",
   "execution_count": null,
   "metadata": {},
   "outputs": [],
   "source": [
    "backend = service.least_busy(operational=True, simulator=False, min_num_qubits=127)\n",
    "optimisation_level = 1\n",
    "\n",
    "#pass_manager = informations needed to transpile the circuit following the requirement of the machine\n",
    "pass_manager = generate_preset_pass_manager(backend=backend, optimization_level=optimisation_level)\n",
    "\n",
    "transpile_circuit = pass_manager.run(qc)\n",
    "display(transpile_circuit.draw('mpl', idle_wires=False))"
   ]
  },
  {
   "cell_type": "markdown",
   "metadata": {},
   "source": [
    "To not wait 40 minutes queue i have already run the circuit earlier so we will just call the results back form IBM"
   ]
  },
  {
   "cell_type": "code",
   "execution_count": null,
   "metadata": {},
   "outputs": [],
   "source": [
    "\n",
    "# first time dooing it\n",
    "# sampler = Sampler(mode=backend)\n",
    "# job = sampler.run([transpile_circuit], shots=shots)\n",
    "\n",
    "# take value back from IMBQ account\n",
    "job = service.job('cwbqmg2ggr6g0088zv0g')\n",
    "\n",
    "\n",
    "result = job.result()[0].data.meas.get_counts()\n",
    "frequencies = {key: value / shots for key, value in result.items()}\n",
    "\n",
    "\n",
    "# Step 6: Plot the histogram of frequencies\n",
    "display(plot_histogram(frequencies, figsize=(7, 5)))"
   ]
  },
  {
   "cell_type": "markdown",
   "metadata": {},
   "source": [
    "As we can see we don't have a perfect system as before\n",
    "<br>\n",
    "This is due to all the noise that will interfere with the real quantum componants of the quantum computer\n",
    "<br>\n",
    "In quantum physics if there is an observation the state will collaps to the given state so"
   ]
  },
  {
   "cell_type": "markdown",
   "metadata": {},
   "source": [
    "for example if \n",
    "$$\n",
    "\\psi = \\frac{1}{\\sqrt{2}} (\\ \\ket{00} + \\ket{11} )\\\n",
    "$$\n",
    "if a particle or even a photon hits one of the qbits it will behave differnetly if it hits a qbit in $\\ket{0}$ or $\\ket{1}$\n",
    "<br>\n",
    "This effectivly counts as a \"Observation\" so instead of a superpositions of the 2 states what we will instead have is \n",
    "<br>\n",
    "$$\n",
    "\\psi = \\ket{00}\\\\\n",
    "or\\\\\n",
    "\\psi = \\ket{11}\n",
    "$$"
   ]
  }
 ],
 "metadata": {
  "kernelspec": {
   "display_name": "Python 3.11.10 64-bit",
   "language": "python",
   "name": "python3"
  },
  "language_info": {
   "codemirror_mode": {
    "name": "ipython",
    "version": 3
   },
   "file_extension": ".py",
   "mimetype": "text/x-python",
   "name": "python",
   "nbconvert_exporter": "python",
   "pygments_lexer": "ipython3",
   "version": "3.11.10"
  },
  "orig_nbformat": 4,
  "vscode": {
   "interpreter": {
    "hash": "853ee8816f05319f977b0456a9db8dad6d4b989386ec41a8b966f714316aa2e9"
   }
  }
 },
 "nbformat": 4,
 "nbformat_minor": 2
}
