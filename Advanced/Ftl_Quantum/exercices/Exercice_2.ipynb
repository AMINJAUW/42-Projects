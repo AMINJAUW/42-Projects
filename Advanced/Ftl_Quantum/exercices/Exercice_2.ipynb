{
 "cells": [
  {
   "cell_type": "markdown",
   "metadata": {},
   "source": [
    "# Exercise 2: SuperPosition"
   ]
  },
  {
   "cell_type": "markdown",
   "metadata": {},
   "source": [
    "In a circuit the qbits are initialize to $\\ket{0}$\n",
    "<br>\n",
    "And the Hadamard gate put it into superpositions like this\n",
    "$$\n",
    "H\\ket{0} = \\frac{1}{\\sqrt{2}} (\\ \\ket{0} + \\ket{1} )\\ \\\\\n",
    "H\\ket{1} = \\frac{1}{\\sqrt{2}} (\\ \\ket{0} - \\ket{1} )\\\n",
    "$$"
   ]
  },
  {
   "cell_type": "code",
   "execution_count": null,
   "metadata": {},
   "outputs": [],
   "source": [
    "from qiskit import QuantumCircuit\n",
    "from qiskit.visualization import plot_histogram\n",
    "from qiskit_aer import AerSimulator\n",
    "\n",
    "\n",
    "# Step 1: Create a quantum circuit with one qubit\n",
    "qc = QuantumCircuit(1)  # 1 qubit\n",
    "\n",
    "# Step 2: Apply Hadamard gate to create superposition\n",
    "qc.h(0)  # Apply Hadamard gate to qubit 0 to create the superposition state (|0⟩+|1⟩)/√2\n",
    "\n",
    "# Step 3: Add measurement to the circuit\n",
    "qc.measure_all()\n",
    "\n",
    "# Display the quantum circuit\n",
    "print(\"Quantum Circuit:\")\n",
    "display(qc.draw('mpl'))\n",
    "\n",
    "# Step 4: Set up the simulator and run the circuit\n",
    "simulator = AerSimulator()\n",
    "shots = 500\n",
    "result = simulator.run(qc, shots=shots).result()\n",
    "\n",
    "# Step 5: Get the counts and convert to frequencies\n",
    "counts = result.get_counts(qc)\n",
    "frequencies = {key: value / shots for key, value in counts.items()}\n",
    "\n",
    "# Step 6: Plot the histogram of frequencies\n",
    "display(plot_histogram(frequencies, bar_labels=False, figsize=(7, 5)))"
   ]
  },
  {
   "cell_type": "markdown",
   "metadata": {},
   "source": [
    "The term \"quasi-probability\" in Qiskit’s plot_histogram appears when you plot results from simulations, especially when using AerSimulator, and is used to differentiate these simulated probabilities from actual, physical probabilities obtained from real quantum hardware."
   ]
  }
 ],
 "metadata": {
  "kernelspec": {
   "display_name": "Python 3.11.10 64-bit",
   "language": "python",
   "name": "python3"
  },
  "language_info": {
   "codemirror_mode": {
    "name": "ipython",
    "version": 3
   },
   "file_extension": ".py",
   "mimetype": "text/x-python",
   "name": "python",
   "nbconvert_exporter": "python",
   "pygments_lexer": "ipython3",
   "version": "3.11.10"
  },
  "orig_nbformat": 4,
  "vscode": {
   "interpreter": {
    "hash": "853ee8816f05319f977b0456a9db8dad6d4b989386ec41a8b966f714316aa2e9"
   }
  }
 },
 "nbformat": 4,
 "nbformat_minor": 2
}
