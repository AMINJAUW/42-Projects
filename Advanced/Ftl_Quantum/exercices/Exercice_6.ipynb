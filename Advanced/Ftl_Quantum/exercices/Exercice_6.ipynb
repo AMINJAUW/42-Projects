{
 "cells": [
  {
   "cell_type": "markdown",
   "metadata": {},
   "source": [
    "# Exercise 6: Search algorithm\n",
    "#### This algorithm is also know as the Grover's algorithm"
   ]
  },
  {
   "cell_type": "markdown",
   "metadata": {},
   "source": [
    "The algorithm will help us find a solution to a function that will take n inputs and will for some inputs give 1 as output and zero for the rest\n",
    "<br>\n",
    "You can picture this as an alogrithm to find the right combination to a lock for example.\n",
    "<br>\n"
   ]
  },
  {
   "cell_type": "markdown",
   "metadata": {},
   "source": [
    "Normally a classical algoritm will need to check every possible input in worst case to find a solution and test them all to find all the solution\n",
    "<br>\n",
    "Grover Algorithm promise us to find the solution with high probablility in only $ O(\\sqrt{2^n}) $ instead of $O(2^n)$ evaluations of $f$\n",
    "<br>\n",
    "if there are multiple solutions the algo can even go faster with $ O(\\sqrt{\\frac{2^n}{s}}) $ with $s$ beeing the number of solutions "
   ]
  },
  {
   "cell_type": "markdown",
   "metadata": {},
   "source": [
    "<p><strong>Grover's algorithm in detail</strong></p><ol class=\"cds--list--ordered cds--list--expressive\"><li class=\"cds--list__item\">Initialize an <span class=\"katex\"><span class=\"katex-mathml\"><math xmlns=\"http://www.w3.org/1998/Math/MathML\"><semantics><mrow><mi>n</mi></mrow><annotation encoding=\"application/x-tex\">n</annotation></semantics></math></span><span class=\"katex-html\" aria-hidden=\"true\"><span class=\"base\"><span class=\"strut\" style=\"height: 0.4306em;\"></span><span class=\"mord mathnormal\">n</span></span></span></span> qubit register <span class=\"katex\"><span class=\"katex-mathml\"><math xmlns=\"http://www.w3.org/1998/Math/MathML\"><semantics><mrow><mi mathvariant=\"sans-serif\">Q</mi></mrow><annotation encoding=\"application/x-tex\">\\mathsf{Q}</annotation></semantics></math></span><span class=\"katex-html\" aria-hidden=\"true\"><span class=\"base\"><span class=\"strut\" style=\"height: 0.8194em; vertical-align: -0.125em;\"></span><span class=\"mord mathsf\">Q</span></span></span></span> to the all-zero state <span class=\"katex\"><span class=\"katex-mathml\"><math xmlns=\"http://www.w3.org/1998/Math/MathML\"><semantics><mrow><mi mathvariant=\"normal\">∣</mi><msup><mn>0</mn><mi>n</mi></msup><mo stretchy=\"false\">⟩</mo></mrow><annotation encoding=\"application/x-tex\">\\vert 0^n \\rangle</annotation></semantics></math></span><span class=\"katex-html\" aria-hidden=\"true\"><span class=\"base\"><span class=\"strut\" style=\"height: 1em; vertical-align: -0.25em;\"></span><span class=\"mord\">∣</span><span class=\"mord\"><span class=\"mord\">0</span><span class=\"msupsub\"><span class=\"vlist-t\"><span class=\"vlist-r\"><span class=\"vlist\" style=\"height: 0.6644em;\"><span style=\"top: -3.063em; margin-right: 0.05em;\"><span class=\"pstrut\" style=\"height: 2.7em;\"></span><span class=\"sizing reset-size6 size3 mtight\"><span class=\"mord mathnormal mtight\">n</span></span></span></span></span></span></span></span><span class=\"mclose\">⟩</span></span></span></span> and then apply a Hadamard operation to each qubit of <span class=\"katex\"><span class=\"katex-mathml\"><math xmlns=\"http://www.w3.org/1998/Math/MathML\"><semantics><mrow><mi mathvariant=\"sans-serif\">Q</mi><mi mathvariant=\"normal\">.</mi></mrow><annotation encoding=\"application/x-tex\">\\mathsf{Q}.</annotation></semantics></math></span><span class=\"katex-html\" aria-hidden=\"true\"><span class=\"base\"><span class=\"strut\" style=\"height: 0.8194em; vertical-align: -0.125em;\"></span><span class=\"mord mathsf\">Q</span><span class=\"mord\">.</span></span></span></span></li><li class=\"cds--list__item\">Apply <span class=\"katex\"><span class=\"katex-mathml\"><math xmlns=\"http://www.w3.org/1998/Math/MathML\"><semantics><mrow><mi>t</mi></mrow><annotation encoding=\"application/x-tex\">t</annotation></semantics></math></span><span class=\"katex-html\" aria-hidden=\"true\"><span class=\"base\"><span class=\"strut\" style=\"height: 0.6151em;\"></span><span class=\"mord mathnormal\">t</span></span></span></span> times the unitary operation <span class=\"katex\"><span class=\"katex-mathml\"><math xmlns=\"http://www.w3.org/1998/Math/MathML\"><semantics><mrow><mi>G</mi><mo>=</mo><msup><mi>H</mi><mrow><mo>⊗</mo><mi>n</mi></mrow></msup><msub><mi>Z</mi><mrow><mi mathvariant=\"normal\">O</mi><mi mathvariant=\"normal\">R</mi></mrow></msub><msup><mi>H</mi><mrow><mo>⊗</mo><mi>n</mi></mrow></msup><msub><mi>Z</mi><mi>f</mi></msub></mrow><annotation encoding=\"application/x-tex\">G = H^{\\otimes n} Z_{\\mathrm{OR}} H^{\\otimes n} Z_f</annotation></semantics></math></span><span class=\"katex-html\" aria-hidden=\"true\"><span class=\"base\"><span class=\"strut\" style=\"height: 0.6833em;\"></span><span class=\"mord mathnormal\">G</span><span class=\"mspace\" style=\"margin-right: 0.2778em;\"></span><span class=\"mrel\">=</span><span class=\"mspace\" style=\"margin-right: 0.2778em;\"></span></span><span class=\"base\"><span class=\"strut\" style=\"height: 1.0574em; vertical-align: -0.2861em;\"></span><span class=\"mord\"><span class=\"mord mathnormal\" style=\"margin-right: 0.08125em;\">H</span><span class=\"msupsub\"><span class=\"vlist-t\"><span class=\"vlist-r\"><span class=\"vlist\" style=\"height: 0.7713em;\"><span style=\"top: -3.063em; margin-right: 0.05em;\"><span class=\"pstrut\" style=\"height: 2.7em;\"></span><span class=\"sizing reset-size6 size3 mtight\"><span class=\"mord mtight\"><span class=\"mord mtight\">⊗</span><span class=\"mord mathnormal mtight\">n</span></span></span></span></span></span></span></span></span><span class=\"mord\"><span class=\"mord mathnormal\" style=\"margin-right: 0.07153em;\">Z</span><span class=\"msupsub\"><span class=\"vlist-t vlist-t2\"><span class=\"vlist-r\"><span class=\"vlist\" style=\"height: 0.3283em;\"><span style=\"top: -2.55em; margin-left: -0.0715em; margin-right: 0.05em;\"><span class=\"pstrut\" style=\"height: 2.7em;\"></span><span class=\"sizing reset-size6 size3 mtight\"><span class=\"mord mtight\"><span class=\"mord mtight\"><span class=\"mord mathrm mtight\">OR</span></span></span></span></span></span><span class=\"vlist-s\">​</span></span><span class=\"vlist-r\"><span class=\"vlist\" style=\"height: 0.15em;\"><span></span></span></span></span></span></span><span class=\"mord\"><span class=\"mord mathnormal\" style=\"margin-right: 0.08125em;\">H</span><span class=\"msupsub\"><span class=\"vlist-t\"><span class=\"vlist-r\"><span class=\"vlist\" style=\"height: 0.7713em;\"><span style=\"top: -3.063em; margin-right: 0.05em;\"><span class=\"pstrut\" style=\"height: 2.7em;\"></span><span class=\"sizing reset-size6 size3 mtight\"><span class=\"mord mtight\"><span class=\"mord mtight\">⊗</span><span class=\"mord mathnormal mtight\">n</span></span></span></span></span></span></span></span></span><span class=\"mord\"><span class=\"mord mathnormal\" style=\"margin-right: 0.07153em;\">Z</span><span class=\"msupsub\"><span class=\"vlist-t vlist-t2\"><span class=\"vlist-r\"><span class=\"vlist\" style=\"height: 0.3361em;\"><span style=\"top: -2.55em; margin-left: -0.0715em; margin-right: 0.05em;\"><span class=\"pstrut\" style=\"height: 2.7em;\"></span><span class=\"sizing reset-size6 size3 mtight\"><span class=\"mord mathnormal mtight\" style=\"margin-right: 0.10764em;\">f</span></span></span></span><span class=\"vlist-s\">​</span></span><span class=\"vlist-r\"><span class=\"vlist\" style=\"height: 0.2861em;\"><span></span></span></span></span></span></span></span></span></span> to the register <span class=\"katex\"><span class=\"katex-mathml\"><math xmlns=\"http://www.w3.org/1998/Math/MathML\"><semantics><mrow><mi mathvariant=\"sans-serif\">Q</mi></mrow><annotation encoding=\"application/x-tex\">\\mathsf{Q}</annotation></semantics></math></span><span class=\"katex-html\" aria-hidden=\"true\"><span class=\"base\"><span class=\"strut\" style=\"height: 0.8194em; vertical-align: -0.125em;\"></span><span class=\"mord mathsf\">Q</span></span></span></span></li><li class=\"cds--list__item\">Measure the qubits of <span class=\"katex\"><span class=\"katex-mathml\"><math xmlns=\"http://www.w3.org/1998/Math/MathML\"><semantics><mrow><mi mathvariant=\"sans-serif\">Q</mi></mrow><annotation encoding=\"application/x-tex\">\\mathsf{Q}</annotation></semantics></math></span><span class=\"katex-html\" aria-hidden=\"true\"><span class=\"base\"><span class=\"strut\" style=\"height: 0.8194em; vertical-align: -0.125em;\"></span><span class=\"mord mathsf\">Q</span></span></span></span> with respect to standard basis measurements and output the resulting string.</li></ol>"
   ]
  },
  {
   "cell_type": "markdown",
   "metadata": {},
   "source": [
    "with $Z_{OR} \\text{ and } Z_f$ Beeing defined as follows\n",
    "$$\n",
    "\\begin{align*}\n",
    "    Z_f\\ket{x} &= \\left(-1\\right)^{f(x)}\\ket{x}\n",
    "    \\quad \\text{Also Called the oracle gate in the subject}\\\\\n",
    "    Z_{OR}\\ket{x} &=\n",
    "    \\begin{cases}\n",
    "        \\ket{x} &\\text{if} \\ket{x} = \\ket{0^n}\\\\\n",
    "        -\\ket{x} &\\text{if} \\ket{x} \\neq \\ket{0^n}\\\\ \n",
    "    \\end{cases}\n",
    "\\end{align*}\n",
    "$$"
   ]
  },
  {
   "cell_type": "markdown",
   "metadata": {},
   "source": [
    "The $Z_{OR}$ Gate in between the Hadamard gates can be represented and implemented as follows\n",
    "<br>\n",
    "This Gate is also called the diffuser"
   ]
  },
  {
   "cell_type": "code",
   "execution_count": null,
   "metadata": {},
   "outputs": [],
   "source": [
    "from qiskit.circuit.library import ZGate\n",
    "from qiskit import QuantumCircuit, QuantumRegister\n",
    "\n",
    "\n",
    "def diffuser(nqubits):\n",
    "    qr = QuantumRegister(nqubits, 'q')\n",
    "    qc = QuantumCircuit(qr)\n",
    "    for qubit in range(nqubits):\n",
    "        qc.h(qubit)\n",
    "    for qubit in range(nqubits):\n",
    "        qc.x(qubit)\n",
    "    # Do multi-controlled-Z gate\n",
    "    cnz = ZGate().control(nqubits - 1)\n",
    "    qc.append(cnz, qr)\n",
    "    for qubit in range(nqubits):\n",
    "        qc.x(qubit)\n",
    "    for qubit in range(nqubits):\n",
    "        qc.h(qubit)\n",
    "    return qc\n",
    "\n",
    "diffuser(3).draw('mpl')"
   ]
  },
  {
   "cell_type": "markdown",
   "metadata": {},
   "source": [
    "The gate in the middle is a multicontrolled z gate that will inverse the phase of the last qbit if the 2 first qbits are set"
   ]
  },
  {
   "cell_type": "markdown",
   "metadata": {},
   "source": [
    "We can Show that applying the $G$ gate (defined in the algorithm definition) t times will give us the following state\n",
    "$$\n",
    "G^t\\ket{u} = \\cos{\\left(2t + 1\\right)\\theta}\\ket{A_0} + \\sin{\\left(2t + 1\\right)\\theta}\\ket{A_1}\n",
    "$$\n",
    "with :\n",
    "$$\n",
    "\\begin{align*}\n",
    "    \\ket{u} &= H^n\\ket{0^n} \\quad \\text{The superpositions of all the states}\\\\\n",
    "    \\theta &= \\arcsin\\left(\\sqrt{\\frac{|A_1|}{2^n}}\\right) = \\sin^{-1}\\left(\\sqrt{\\frac{|A_1|}{2^n}}\\right)\\\\\n",
    "\\end{align*}\n",
    "$$\n",
    "And $A_0$ beeing all the states that are not sollutions and $A_1$ that are, or said mathematicly\n",
    "$$\n",
    "\\begin{cases}\n",
    "    f(x) &= 0 \\quad \\forall x\\, |\\, x \\in \\ket{A_0} \\\\\n",
    "    f(x) &= 1 \\quad \\forall x\\, |\\, x \\in \\ket{A_1} \\\\\n",
    "\\end{cases}\n",
    "$$ "
   ]
  },
  {
   "cell_type": "markdown",
   "metadata": {},
   "source": [
    "So we want to maximize the $\\,\\sin{\\left(2t + 1\\right)\\theta}\\,$ to have a bigger probability to find the right anwser"
   ]
  },
  {
   "cell_type": "markdown",
   "metadata": {},
   "source": [
    "this is quite easely done because \n",
    "$$\n",
    "\\sin\\left(\\frac{\\pi}{2}\\right) = 1\n",
    "$$"
   ]
  },
  {
   "cell_type": "markdown",
   "metadata": {},
   "source": [
    "so we want to find the right value for $t$ so that \n",
    "$$\n",
    "\\left(2t + 1\\right)\\theta \\approx \\frac{\\pi}{2}\n",
    "$$\n",
    "by isolating $t$ we find that\n",
    "$$\n",
    "t \\approx \\frac{\\pi}{4\\theta} - \\frac{1}{2}\n",
    "$$\n",
    "because $t$ needs to be a whole number we can see that \n",
    "$$\n",
    "round\\left(\\frac{\\pi}{4\\theta} - \\frac{1}{2}\\right) = \\left\\lfloor\\frac{\\pi}{4\\theta}\\right\\rfloor\n",
    "$$\n",
    "In python this will be:"
   ]
  },
  {
   "cell_type": "code",
   "execution_count": null,
   "metadata": {},
   "outputs": [],
   "source": [
    "import math\n",
    "def iterations_t(total_qbits :int, n_solutions :int) -> int:\n",
    "    theta = math.asin(math.sqrt(n_solutions / math.pow(2,total_qbits)))\n",
    "    t = math.floor(math.pi / (4 * theta))\n",
    "    return t"
   ]
  },
  {
   "cell_type": "markdown",
   "metadata": {},
   "source": [
    "The subject isn't very clear if we will know how much solution each oracle will give us or not &#x1F61F;"
   ]
  },
  {
   "cell_type": "markdown",
   "metadata": {},
   "source": [
    "In the case where we don't know how many sollutions we have there is a method where you randomly choose a value of $t$ with $t \\in \\{1,...,\\lfloor\\frac{\\pi\\sqrt{N}}{4}\\rfloor\\}$ and this will give us 40% chance to find the right anwser.\n",
    "<br>\n"
   ]
  },
  {
   "cell_type": "markdown",
   "metadata": {},
   "source": [
    "Witch on his own is not very good but we can do it again and again and the probability will increase everytime we do it.\n",
    "<br>\n",
    "Like when you flip a coin the more times you filp a coin the more chance you will have to see just once a heads !"
   ]
  },
  {
   "cell_type": "markdown",
   "metadata": {},
   "source": [
    "the Probability is given with this equation\n",
    "$$\n",
    "P(\\ket{A_1}\\, \\text{after k times trying a random}\\,\\, t) = 1 - 0.6^k\n",
    "$$\n",
    "here is a little python scriipt to show to probability for each try"
   ]
  },
  {
   "cell_type": "code",
   "execution_count": null,
   "metadata": {},
   "outputs": [],
   "source": [
    "for n in range(1,16):\n",
    "    print(f'probability to find the right anwser with {n} tries: {(1 - (0.6 ** n)) * 100} %')"
   ]
  },
  {
   "cell_type": "markdown",
   "metadata": {},
   "source": [
    "So at $k = 10$ the probability is already at  $99.395$% And this what ever the size of all possible answers !"
   ]
  },
  {
   "cell_type": "markdown",
   "metadata": {},
   "source": [
    "In the case where we don't receive the right number of sollutions for a given oracle it could be that we chose t such that \n",
    "$$\n",
    "\\left(2t + 1\\right)\\theta \\approx k2\\pi \\quad \\{\\forall k\\,|\\,k\\in \\Z\\}\n",
    "$$\n",
    "witch mean that we will find with a very big probability a state that is in $\\ket{A_0}$"
   ]
  },
  {
   "cell_type": "markdown",
   "metadata": {},
   "source": [
    "But we will be unable to know if it is a state from $\\ket{A_0}$ or from $\\ket{A_1}$<br>\n",
    "But this enable us to separate all the states in 2 groups with one of them beeing the solutions."
   ]
  },
  {
   "cell_type": "markdown",
   "metadata": {},
   "source": [
    "All we then need to do is to try the \"lock\" with one of the states in a group ad if it is a sollution then the whole group is<br>\n",
    "Otherwise it is the other group that is the sollutions."
   ]
  },
  {
   "cell_type": "markdown",
   "metadata": {},
   "source": [
    "## Visualisation"
   ]
  },
  {
   "cell_type": "markdown",
   "metadata": {},
   "source": [
    "Because we are using angles sin and cosin it is more easy to represent the algorithm using a trignometric circle"
   ]
  },
  {
   "cell_type": "markdown",
   "metadata": {},
   "source": [
    "for example In the case where we have 3 qbits and there is only one solutions we can calculate that \n",
    "$$\n",
    "\\theta = sin^{-1}(\\ \\sqrt{\\frac{1}{2^{3}}} )\\ \\approx \\frac{\\pi}{8.69}\n",
    "$$\n",
    "and the Grover algorithm will actually rotate the states towards the solutions\n",
    "<br>\n",
    "Here is a little python function to visualize it"
   ]
  },
  {
   "cell_type": "code",
   "execution_count": null,
   "metadata": {},
   "outputs": [],
   "source": [
    "from utils_functions.plot_trigo import plot_multiple_angles_with_probabilities\n",
    "import numpy as np\n",
    "\n",
    "plot_multiple_angles_with_probabilities(np.asin(math.sqrt(1 / 8)))"
   ]
  },
  {
   "cell_type": "markdown",
   "metadata": {},
   "source": [
    "## Implementation"
   ]
  },
  {
   "cell_type": "markdown",
   "metadata": {},
   "source": [
    "#### Grover Circuit builder function"
   ]
  },
  {
   "cell_type": "code",
   "execution_count": null,
   "metadata": {},
   "outputs": [],
   "source": [
    "def Grover_circuit(oracle :QuantumCircuit, n_iterations :int) -> QuantumCircuit:\n",
    "    if oracle.num_qubits < 2:\n",
    "        print(f'oracle need a minimum of 2 qbits')\n",
    "        return\n",
    "    qc = QuantumCircuit(oracle.num_qubits)\n",
    "    qc.h(range(oracle.num_qubits))\n",
    "    for i in range(n_iterations):\n",
    "        qc.barrier()\n",
    "        qc = qc.compose(oracle)\n",
    "        qc.barrier()\n",
    "        qc = qc.compose(diffuser(oracle.num_qubits))\n",
    "    qc.measure_all()\n",
    "    print(f\"Circuit for {n_iterations}iterations:\")\n",
    "    display(qc.draw(\"mpl\"))\n",
    "    return qc"
   ]
  },
  {
   "cell_type": "markdown",
   "metadata": {},
   "source": [
    "#### Algorithm in case we know the number of sollutions"
   ]
  },
  {
   "cell_type": "code",
   "execution_count": null,
   "metadata": {},
   "outputs": [],
   "source": [
    "from qiskit_aer import AerSimulator\n",
    "from qiskit.visualization import plot_histogram\n",
    "\n",
    "def Grover_algorithm(oracle :QuantumCircuit, n_solutions: int):\n",
    "    print(f'Dooing Classic Grover algorithm with {n_solutions} sollution{\"s\" if n_solutions > 1 else \"\"}')\n",
    "    t = iterations_t(oracle.num_qubits, n_solutions)\n",
    "    print(f\"Chose t = {t}\")\n",
    "    qc = Grover_circuit(oracle, t)\n",
    "    #Running in simulation\n",
    "    sampler = AerSimulator()\n",
    "    \n",
    "    job = sampler.run([qc], shots=1000)\n",
    "    result = job.result().get_counts()\n",
    "    print()\n",
    "    display(plot_histogram(result))\n",
    "    print(\"END of Classic Grover Algorithm\")\n",
    "    print(\"-\" * 35)"
   ]
  },
  {
   "cell_type": "markdown",
   "metadata": {},
   "source": [
    "#### Algorithm in case we don't know the number of sollutions"
   ]
  },
  {
   "cell_type": "code",
   "execution_count": null,
   "metadata": {},
   "outputs": [],
   "source": [
    "\n",
    "import random\n",
    "\n",
    "def Grover_algorithm_unknown(oracle :QuantumCircuit, max_attempts = 15):\n",
    "    print(f'Dooing Grover algorithm with unknown numbers of sollutions')\n",
    "    sampler = AerSimulator()\n",
    "\n",
    "    N = 2 ** oracle.num_qubits\n",
    "    max_t = int(np.floor(np.pi * np.sqrt(N) / 4))\n",
    "    print(f\"Starting to choose a t ∈ {{1, ..., {max_t}}}\")\n",
    "    random.seed()\n",
    "\n",
    "    for attempt in range(max_attempts):\n",
    "        # Choose a value for t\n",
    "        t = random.randint(1, max_t)\n",
    "        print(f\"Attempt {attempt + 1}: Running Grover's algorithm with t = {t}\")\n",
    "        qc = Grover_circuit(oracle, t)\n",
    "        counts = sampler.run([qc], shots=1000).result().get_counts()\n",
    "        if (analyse_result(counts)):\n",
    "            display(plot_histogram(counts))\n",
    "            return\n",
    "    \n",
    "    print(f'The Algoritm wasn\\'t able to find a sollution :/')\n"
   ]
  },
  {
   "cell_type": "markdown",
   "metadata": {},
   "source": [
    "the function analyse_results() will take the results for a given $t$ and then see if a group of states togheter have more than a threshold (default 75%) off all the observations and if those states have roughly the same count with a standart_dev (default 1%) proportional to the number of total obeservations <br>\n",
    "If all off this is true trne return true else return false"
   ]
  },
  {
   "cell_type": "code",
   "execution_count": null,
   "metadata": {},
   "outputs": [],
   "source": [
    "def analyse_result(counts, threshold = 0.75, standart_dev = 0.01) -> bool:\n",
    "    \"\"\"\n",
    "    This function will check if we have results that will enable us to separte the states in\n",
    "    2 distinct groups\n",
    "\n",
    "    It will first take all the states that are more than the mean of all counts\n",
    "    Then takes the biggest states that together are more than ${threshold} of the total count\n",
    "    if all the states above the mean aren't, it means we don't have a enough big difference\n",
    "    Then we will check that all those states are roughly equal using the standart_deviation\n",
    "    \"\"\"\n",
    "    cummulative_counts = 0\n",
    "    total_counts = sum(counts.values())\n",
    "    counts_mean = np.mean(list(counts.values()))\n",
    "    selected_states = []\n",
    "    high_represented_states = [(state, count) for state, count in counts.items() if count >= counts_mean]\n",
    "    sorted_high_represented_states = dict(sorted(high_represented_states, key=lambda state_count: state_count[1], reverse=True))\n",
    "\n",
    "    # find all the states that have ${threshold}% of the results\n",
    "    for state, count in sorted_high_represented_states.items():\n",
    "        cummulative_counts += count\n",
    "        selected_states.append((state, count))\n",
    "        if (float(cummulative_counts) / total_counts >= threshold):\n",
    "            break\n",
    "    if (float(cummulative_counts) / total_counts < threshold):\n",
    "        return False\n",
    "    \n",
    "    # check if the states are all within 1% of the total counts close to the mean of the selected states\n",
    "    if len(selected_states) == 1:\n",
    "        return True\n",
    "    avg_count = np.mean([count for _, count in selected_states])\n",
    "    if all(abs(count - avg_count) / total_counts <= standart_dev for _, count in selected_states):\n",
    "        return True\n",
    "    else:\n",
    "        return False"
   ]
  },
  {
   "cell_type": "markdown",
   "metadata": {},
   "source": [
    "When we test it with the given oracle:"
   ]
  },
  {
   "cell_type": "code",
   "execution_count": null,
   "metadata": {},
   "outputs": [],
   "source": [
    "oracle = QuantumCircuit(3)\n",
    "oracle.h(2)\n",
    "oracle.mcx([0,1], 2)\n",
    "oracle.h(2)\n",
    "display(oracle.draw(\"mpl\"))"
   ]
  },
  {
   "cell_type": "markdown",
   "metadata": {},
   "source": [
    "If we know that there is only one solution we can visulaize the best $t$"
   ]
  },
  {
   "cell_type": "code",
   "execution_count": null,
   "metadata": {},
   "outputs": [],
   "source": [
    "plot_multiple_angles_with_probabilities(np.asin(math.sqrt(1 / (2 ** 3))))"
   ]
  },
  {
   "cell_type": "markdown",
   "metadata": {},
   "source": [
    "so choosing a $t$ as 2 will give us a 95% to find the right state as anwser\n",
    "<br>\n",
    "Let's try our algorithm "
   ]
  },
  {
   "cell_type": "code",
   "execution_count": null,
   "metadata": {},
   "outputs": [],
   "source": [
    "# with us knowing there is only one solution\n",
    "Grover_algorithm(oracle=oracle, n_solutions=1)\n",
    "\n",
    "#without us knowing how many sollution there is\n",
    "Grover_algorithm_unknown(oracle=oracle)"
   ]
  }
 ],
 "metadata": {
  "kernelspec": {
   "display_name": "Python 3.11.10 64-bit",
   "language": "python",
   "name": "python3"
  },
  "language_info": {
   "codemirror_mode": {
    "name": "ipython",
    "version": 3
   },
   "file_extension": ".py",
   "mimetype": "text/x-python",
   "name": "python",
   "nbconvert_exporter": "python",
   "pygments_lexer": "ipython3",
   "version": "3.11.10"
  },
  "orig_nbformat": 4,
  "vscode": {
   "interpreter": {
    "hash": "853ee8816f05319f977b0456a9db8dad6d4b989386ec41a8b966f714316aa2e9"
   }
  }
 },
 "nbformat": 4,
 "nbformat_minor": 2
}
