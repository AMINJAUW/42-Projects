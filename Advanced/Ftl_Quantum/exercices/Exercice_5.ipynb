{
 "cells": [
  {
   "cell_type": "markdown",
   "metadata": {},
   "source": [
    "# Exercise 5: Deutsch-Jozsa"
   ]
  },
  {
   "cell_type": "markdown",
   "metadata": {},
   "source": [
    "The Deutsch-Jozsa algorithm is one of the earliest examples of a quantum algorithm that demonstrates a speed advantage over classical methods. It determines whether a given function $f(x)$, mapping n-bit inputs to {0,1}, is:\n",
    "\n",
    "-   Constant: outputs the same value for all inputs\n",
    "-   Balanced: outputs $0$ for exactly half of the inputs and $1$ for the other half\n",
    "\n",
    "In a classical setting, identifying whether $f(x)$ is constant or balanced requires evaluating $f(x)$ at least $2^{n−1}+1$ times in the worst case. Using quantum computation, the Deutsch-Jozsa algorithm makes this distinction with only a single evaluation of $f(x)$."
   ]
  },
  {
   "cell_type": "markdown",
   "metadata": {},
   "source": [
    "To set of function as a valid gate in a quantum circuit it has to have some propreties\n",
    "<br>\n",
    "Whitout goining into the details here is who the gate needs to be: \n",
    "<br>\n",
    "<img width=\"400\" heigh=\"350\" alt=\"A unitary query gate.\" loading=\"lazy\" data-nuxt-img=\"\" srcset=\"https://learning-api.quantum.ibm.com/assets/664c738d-876a-4f64-be33-097734a369bb?format=auto&amp;quality=80 1x\" src=\"https://learning-api.quantum.ibm.com/assets/664c738d-876a-4f64-be33-097734a369bb?format=auto&amp;quality=80\">"
   ]
  },
  {
   "cell_type": "markdown",
   "metadata": {},
   "source": [
    "Here is the circuit for this algorithm using 3 qbits for $f(x)$"
   ]
  },
  {
   "cell_type": "code",
   "execution_count": null,
   "metadata": {},
   "outputs": [],
   "source": [
    "from utils_functions.fake_circuit import draw_fake_dj_circuit\n",
    "draw_fake_dj_circuit()"
   ]
  },
  {
   "cell_type": "markdown",
   "metadata": {},
   "source": [
    "Here is the analyse of the circuit :"
   ]
  },
  {
   "cell_type": "markdown",
   "metadata": {},
   "source": [
    "$$\n",
    "\\psi_0 = \\ket{q_3q_2q_1q_0} = \\ket{1000}\\\\\n",
    "$$\n",
    "Then after Hadamard gates\n",
    "$$\n",
    "\\psi_1 = \\frac{1}{\\sqrt{2^4}} \\left(\\, \\sum_{n=000}^{111} \\left(\\, \\ket{0} - \\ket{1} \\right)\\,\\ket{n} \\right) \n",
    "$$\n"
   ]
  },
  {
   "cell_type": "markdown",
   "metadata": {},
   "source": [
    "After applying the $U_f$ Gate we have \n",
    "$$\n",
    "\\psi_2 = \\frac{1}{\\sqrt{2^4}} \\left(\\,\\sum_{n=000}^{111} \\left(\\, \\ket{0 \\oplus f(n)} - \\ket{1 \\oplus f(n)} \\right)\\,\\ket{n} \\right) \n",
    "$$"
   ]
  },
  {
   "cell_type": "markdown",
   "metadata": {},
   "source": [
    "we can show that \n",
    "$$\n",
    "\\ket{0 \\oplus a} - \\ket{1 \\oplus a} = \\left(-1\\right)^a\\left(\\,\\ket{0} - \\ket{1} \\right)\n",
    "$$\n",
    "because it works what ever a is 0 or 1\n",
    "$$\n",
    "\\ket{0 \\oplus 0} - \\ket{1 \\oplus 0} = \\left(-1\\right)^0\\left(\\,\\ket{0} - \\ket{1} \\right)\\\\\n",
    "\\ket{0 \\oplus 1} - \\ket{1 \\oplus 1} = \\left(-1\\right)^1\\left(\\,\\ket{0} - \\ket{1} \\right)\n",
    "$$"
   ]
  },
  {
   "cell_type": "markdown",
   "metadata": {},
   "source": [
    "so we can simplify $\\psi_2$\n",
    "$$\n",
    "\\psi_2 = \\frac{1}{\\sqrt{2^4}} \\left(\\,\\sum_{n=000}^{111} \\left(-1\\right)^{f(n)}\\left(\\, \\ket{0} - \\ket{1} \\right)\\,\\ket{n} \\right) \n",
    "$$"
   ]
  },
  {
   "cell_type": "markdown",
   "metadata": {},
   "source": [
    "another thing we will need is that performing a Hadamart gate can be written as follow\n",
    "$$\n",
    "H\\ket{a} = \\frac{1}{\\sqrt{2}} \\sum_{b \\in \\{ 0,1 \\} }\\left(-1\\right)^{ab}\\ket{b}\n",
    "$$\n",
    "because it is the same as saying\n",
    "$$\n",
    "H\\ket{a} = \\frac{1}{\\sqrt{2}} \\ket{0} + \\frac{1}{\\sqrt{2}} \\left(-1\\right)^a\\ket{1}\n",
    "$$"
   ]
  },
  {
   "cell_type": "markdown",
   "metadata": {},
   "source": [
    "And a Hadamard Gate on n qbits written \n",
    "$$\n",
    "H^{\\,\\otimes\\, n}\\ket{x_{n-1}x_{n-2}\\,...\\,x_{1}x_{0}} \\\\\n",
    "= \\left(H\\ket{x_{n-1}}\\right)\\, \\otimes \\, ... \\, \\otimes \\, \\left(H\\ket{x_0}\\right)\n",
    "$$\n",
    "$\\otimes$ is just the operation that \"fuse\" the kets together\n",
    "$$\n",
    "= \\left(\\frac{1}{\\sqrt{2}} \\sum_{y_{n-1} \\in \\{ 0,1 \\} }\\left(-1\\right)^{x_{n-1}y_{n-1}}\\ket{y_{n-1}}\\right)\\, \\otimes \\, ... \\, \\otimes \\, \\left(\\frac{1}{\\sqrt{2}} \\sum_{y_{0} \\in \\{ 0,1 \\} }\\left(-1\\right)^{x_{0}y_{0}}\\ket{y_{0}}\\right)"
   ]
  },
  {
   "cell_type": "markdown",
   "metadata": {},
   "source": [
    "$$\n",
    "= \\frac{1}{\\sqrt{2^n}} \\sum_{y_{n-1}\\,...\\,y_0\\,\\in \\sum^n}\\left(-1\\right)^{x_{n-1}y_{n-1}\\, +\\, ... \\, + \\, x_0y_0} \\ket{y_{n-1}...\\,y_0}\n",
    "$$\n",
    "with $\\sum^n$ is all the possible binary numbers of length n"
   ]
  },
  {
   "cell_type": "markdown",
   "metadata": {},
   "source": [
    "It is quite a hard equation but we can simplify it because the only thing we want to know is if the exponant of $-1$ is pair or odd. "
   ]
  },
  {
   "cell_type": "markdown",
   "metadata": {},
   "source": [
    "So we will define $x . y$ as the binairy dot product where\n",
    "$$\n",
    "x\\,.\\,y = x_{n-1}y_{n-1} \\oplus\\, ...\\, \\oplus x_0y_0\\\\\n",
    "$$\n",
    "So\n",
    "$$\n",
    "x\\,.\\,y = \n",
    "    \\begin{cases}\n",
    "        1 & \\text{if} \\quad x_{n-1}y_{n-1} + \\, ... \\, + x_0y_0 \\quad \\text{is odd}\\\\\n",
    "        0 & \\text{if} \\quad x_{n-1}y_{n-1} + \\, ... \\, + x_0y_0 \\quad \\text{is even}\\\\\n",
    "    \\end{cases}\n",
    "$$"
   ]
  },
  {
   "cell_type": "markdown",
   "metadata": {},
   "source": [
    "And we can rewrite \n",
    "$$\n",
    "H^{\\,\\otimes\\, n}\\ket{x_{n-1}x_{n-2}\\,...\\,x_{1}x_{0}} = \\frac{1}{\\sqrt{2^n}} \\sum_{y \\in \\sum^n}\\left(-1\\right)^{x\\, . \\, y} \\ket{y}\n",
    "$$"
   ]
  },
  {
   "cell_type": "markdown",
   "metadata": {},
   "source": [
    "to make it more readable we ofter write \n",
    "$$\n",
    "\\frac{1}{\\sqrt{2}}\\ket{0} - \\frac{1}{\\sqrt{2}}\\ket{1} = \\ket{-}\n",
    "$$\n",
    "with that we can calculate the next state in our algorithm\n",
    "<br>\n",
    "We Had:\n",
    "$$\n",
    "\\psi_2 = \\ket{-} \\otimes \\frac{1}{\\sqrt{2^3}} \\sum_{x \\in \\sum^3} \\left(-1\\right)^{f(x)} \\ket{x}\n",
    "$$"
   ]
  },
  {
   "cell_type": "markdown",
   "metadata": {},
   "source": [
    "after that the algorithm will apply a Hadamard Gate to the 3 first qbits\n",
    "<br>\n",
    "We can use our defininition of $H^{\\,\\otimes\\, 3}\\ket{x}$"
   ]
  },
  {
   "cell_type": "markdown",
   "metadata": {},
   "source": [
    "$$\n",
    "\\begin{align*}\n",
    "    \\psi_3 &= \\ket{-} \\otimes \\frac{1}{\\sqrt{2^3}} H^{\\,\\otimes\\,3}\\left(\\sum_{x \\in \\sum^3}\\left(-1\\right)^{f(x)}\\ket{x}\\right)\\\\\\\\\n",
    "    \\psi_3 &= \\ket{-} \\otimes \\frac{1}{2^3} \\sum_{y \\in \\sum^3} \\sum_{x \\in \\sum^3} \\left(-1\\right)^{f(x) + x\\,.\\,y}\\ket{y}\n",
    "\\end{align*}\n",
    "$$"
   ]
  },
  {
   "cell_type": "markdown",
   "metadata": {},
   "source": [
    "Now what we want to see is what is the probability to find the $\\ket{0^n}$ state at the end of the algorithm"
   ]
  },
  {
   "cell_type": "markdown",
   "metadata": {},
   "source": [
    "as a reminder to calculate the probability of state can be calculated as follow\n",
    "<br>\n",
    "Let's say we have a state $\\phi$ defined as followed\n",
    "$$\n",
    "\\phi = z_0\\ket{x_0} + ... + z_n\\ket{x_n}\\\\\n",
    "$$\n",
    "Then the probability to find the $\\ket{x_m}$ state $\\left(\\,\\forall m \\in \\N\\, |\\, m \\leq n\\right)$\n",
    "$$\n",
    "P(\\ket{x_m}) = |\\,z_m\\,|^2\n",
    "$$"
   ]
  },
  {
   "cell_type": "markdown",
   "metadata": {},
   "source": [
    "The probability to find the $\\ket{0^n}$ state at the end is not hard to calculate because it simplify the equation\n",
    "<br>\n",
    "because we are looking for the coefficient for $y = 000$ we know that $x \\,.\\, y = 0$. So \n",
    "$$\n",
    "\\left(-1\\right)^{f(x) + x \\,.\\,y} = \\left(-1\\right)^{f(x)}\n",
    "$$"
   ]
  },
  {
   "cell_type": "markdown",
   "metadata": {},
   "source": [
    "$$\n",
    "P(\\,\\ket{0^3}\\,) = \\left|\\frac{1}{2^3}\\sum_{x \\in \\sum^3}\\left(-1\\right)^{f(x)}\\right|^2\n",
    "$$"
   ]
  },
  {
   "cell_type": "markdown",
   "metadata": {},
   "source": [
    "And here something intersting happend"
   ]
  },
  {
   "cell_type": "markdown",
   "metadata": {},
   "source": [
    "if $f(x)$ is constant this sum will equal $\\pm\\,2^3$ withc means that the probability will be 1"
   ]
  },
  {
   "cell_type": "markdown",
   "metadata": {},
   "source": [
    "and if $f(x)$ is balanced there will be as many +1 as there will be -1 so the sum and the probability will be 0"
   ]
  },
  {
   "cell_type": "markdown",
   "metadata": {},
   "source": [
    "To say it mathematicly\n",
    "$$\n",
    "P\\left(\\,\\ket{0^3}\\, \\right) = \n",
    "\\begin{cases}\n",
    "    1& \\text{if $f(x)$ is constant}\\\\\n",
    "    0& \\text{if $f(x)$ is balanced}\\\\\n",
    "\\end{cases}\n",
    "$$"
   ]
  },
  {
   "cell_type": "markdown",
   "metadata": {},
   "source": [
    "So all we need to do is to check if the final state of the circuit is $\\ket{000}$ or not and we have 100% certanty !"
   ]
  },
  {
   "cell_type": "markdown",
   "metadata": {},
   "source": [
    "## Implementation"
   ]
  },
  {
   "cell_type": "markdown",
   "metadata": {},
   "source": [
    "To not wait for a very long queue and do the test multiple times i do it on a simulator"
   ]
  },
  {
   "cell_type": "code",
   "execution_count": null,
   "metadata": {},
   "outputs": [],
   "source": [
    "from qiskit import QuantumCircuit\n",
    "\n",
    "def compile_circuit(function: QuantumCircuit):\n",
    "    \"\"\"\n",
    "    Compiles a circuit for use in the Deutsch-Jozsa algorithm.\n",
    "    \"\"\"\n",
    "    n = function.num_qubits - 1\n",
    "    qc = QuantumCircuit(n + 1, n)\n",
    "    qc.x(n)\n",
    "    qc.h(range(n + 1))\n",
    "    qc.compose(function, inplace=True)\n",
    "    qc.h(range(n))\n",
    "    qc.measure(range(n), range(n))\n",
    "    return qc"
   ]
  },
  {
   "cell_type": "code",
   "execution_count": null,
   "metadata": {},
   "outputs": [],
   "source": [
    "from qiskit_aer import AerSimulator\n",
    "\n",
    "def dj_algorithm(function: QuantumCircuit):\n",
    "    \"\"\"\n",
    "    Determine if a Deutsch-Jozsa function is constant or balanced.\n",
    "    \"\"\"\n",
    "    qc = compile_circuit(function)\n",
    "\n",
    "    result = AerSimulator().run(qc, shots=1, memory=True).result()\n",
    "    measurements = result.get_memory()\n",
    "    if \"1\" in measurements[0]:\n",
    "        return \"balanced\"\n",
    "    return \"constant\""
   ]
  },
  {
   "cell_type": "code",
   "execution_count": null,
   "metadata": {},
   "outputs": [],
   "source": [
    "balanced_example = QuantumCircuit(4)\n",
    "balanced_example.x(range(3))\n",
    "for i in range(3):\n",
    "    balanced_example.cx(i, 3)\n",
    "balanced_example.x(range(3))\n",
    "\n",
    "constant_example = QuantumCircuit(4)\n",
    "constant_example.x(3)\n",
    "\n",
    "display(balanced_example.draw('mpl'))\n",
    "print(f'the balanced funciton is: {dj_algorithm(balanced_example)}')\n",
    "display(constant_example.draw('mpl'))\n",
    "print(f'the constant function is: {dj_algorithm(constant_example)}')"
   ]
  }
 ],
 "metadata": {
  "kernelspec": {
   "display_name": "Python 3.11.10 64-bit",
   "language": "python",
   "name": "python3"
  },
  "language_info": {
   "codemirror_mode": {
    "name": "ipython",
    "version": 3
   },
   "file_extension": ".py",
   "mimetype": "text/x-python",
   "name": "python",
   "nbconvert_exporter": "python",
   "pygments_lexer": "ipython3",
   "version": "3.11.10"
  },
  "orig_nbformat": 4,
  "vscode": {
   "interpreter": {
    "hash": "853ee8816f05319f977b0456a9db8dad6d4b989386ec41a8b966f714316aa2e9"
   }
  }
 },
 "nbformat": 4,
 "nbformat_minor": 2
}
