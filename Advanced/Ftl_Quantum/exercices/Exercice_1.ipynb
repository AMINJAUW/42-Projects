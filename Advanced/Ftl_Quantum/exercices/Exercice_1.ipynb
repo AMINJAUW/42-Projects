{
 "cells": [
  {
   "cell_type": "markdown",
   "metadata": {},
   "source": [
    "# Execise 1: token"
   ]
  },
  {
   "cell_type": "code",
   "execution_count": null,
   "metadata": {},
   "outputs": [],
   "source": [
    "from qiskit_ibm_runtime import QiskitRuntimeService\n",
    "from dotenv import load_dotenv\n",
    "import os\n",
    "\n",
    "load_dotenv(override=True)\n",
    "token = os.environ['IBM_TOKEN']\n",
    "service = QiskitRuntimeService(channel=\"ibm_quantum\", token=token)"
   ]
  },
  {
   "cell_type": "markdown",
   "metadata": {},
   "source": [
    "Due to the new version of qiskit (1.2.4)\n",
    "<br>\n",
    "the command `IBMQ.get_provider` function in qiskit (0.19.2)\n",
    "<br>\n",
    "is no longer available instead you should use service.backend()\n",
    "<br>"
   ]
  },
  {
   "cell_type": "markdown",
   "metadata": {},
   "source": [
    "### List all available quantum simulators with their current queue."
   ]
  },
  {
   "cell_type": "markdown",
   "metadata": {},
   "source": [
    "The Simulators are not anymore provided by IBM, but you Can run them localy to try you project before hand\n",
    "<br>\n",
    "see https://docs.quantum.ibm.com/migration-guides/local-simulators#guidance-for-choosing-a-simulator"
   ]
  },
  {
   "cell_type": "code",
   "execution_count": null,
   "metadata": {},
   "outputs": [],
   "source": [
    "print(\"Simulated quantum computers:\")\n",
    "all_simulators = service.backends(simulator=True)\n",
    "print(\"All available simulators:\", all_simulators)"
   ]
  },
  {
   "cell_type": "markdown",
   "metadata": {},
   "source": [
    "### List all available quantum computers with their current queue and the number of qubits they have."
   ]
  },
  {
   "cell_type": "code",
   "execution_count": null,
   "metadata": {},
   "outputs": [],
   "source": [
    "print(\"Real \\\"availaible\\\" quantum computers\")\n",
    "computers = service.backends(simulator=False)\n",
    "if computers:\n",
    "    max_name_length = max_comp_name_length = max(len(computer.name) for computer in computers)\n",
    "    for computer in computers:\n",
    "        name = computer.name\n",
    "        qubits = computer.num_qubits\n",
    "        status = computer.status().pending_jobs\n",
    "        print(f\"\\t{name:<{max_comp_name_length}} has {status:<{4}} queues and {qubits} qubits\")"
   ]
  }
 ],
 "metadata": {
  "kernelspec": {
   "display_name": "Python 3.11.10 64-bit",
   "language": "python",
   "name": "python3"
  },
  "language_info": {
   "codemirror_mode": {
    "name": "ipython",
    "version": 3
   },
   "file_extension": ".py",
   "mimetype": "text/x-python",
   "name": "python",
   "nbconvert_exporter": "python",
   "pygments_lexer": "ipython3",
   "version": "3.11.10"
  },
  "orig_nbformat": 4,
  "vscode": {
   "interpreter": {
    "hash": "853ee8816f05319f977b0456a9db8dad6d4b989386ec41a8b966f714316aa2e9"
   }
  }
 },
 "nbformat": 4,
 "nbformat_minor": 2
}
